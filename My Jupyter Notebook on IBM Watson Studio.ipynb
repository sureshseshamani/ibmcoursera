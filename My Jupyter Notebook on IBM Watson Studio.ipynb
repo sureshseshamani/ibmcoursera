{
    "cells": [
        {
            "cell_type": "markdown",
            "metadata": {
                "collapsed": true
            },
            "source": "<h1> My Jupyter Notebook on IBM Watson Studio"
        },
        {
            "cell_type": "markdown",
            "metadata": {},
            "source": "<b>SURESH SESHAMANI</b>\n<br>Program Manager</br>"
        },
        {
            "cell_type": "markdown",
            "metadata": {},
            "source": "<i>I am interested in Data Science because I want to future-proof my career by acquiring skills that will be in demand. Also, its really fun to learn a new subject.</i>"
        },
        {
            "cell_type": "markdown",
            "metadata": {},
            "source": "<h3> This is a code from a kaggle tutorial that searches for keywords in text and returns a dictionary where each key is a keyword, and the value is a list of indices of the documents containing that keyword"
        },
        {
            "cell_type": "code",
            "execution_count": 1,
            "metadata": {},
            "outputs": [
                {
                    "name": "stdout",
                    "output_type": "stream",
                    "text": "0 The quick brown fox jumped over the lazy dog.\n1 Every dog has its day\n2 Its raining cats and dogs.\n3 Who let the dogs out?\n4 Its a dog eat dog world\n5 Nine lives of a cat\n6 Cat Fight\n7 Shes a Cat Lady\n8 Ba Ba Black Sheep\n9 Lil Bo Beep Lost her sheep.\n{'Dog': [0, 1, 4], 'cat': [5, 6, 7], 'fox': [0], 'Sheep': [8, 9], 'horse': []}\n"
                }
            ],
            "source": "def multi_word_search(doc_list, keywords):\n    \"\"\"\n    Takes list of documents (each document is a string) and a list of keywords.  \n    Returns a dictionary where each key is a keyword, and the value is a list of indices\n    (from doc_list) of the documents containing that keyword\n\n    >>> doc_list = [\"The Learn Python Challenge Casino.\", \"They bought a car and a casino\", \"Casinoville\"]\n    >>> keywords = ['casino', 'they']\n    >>> multi_word_search(doc_list, keywords)\n    {'casino': [0, 1], 'they': [1]}\n    \"\"\"\n    ival = {keyword:[] for keyword in keywords}\n    for keyword in keywords :\n        ival[keyword] = word_search(doc_list, keyword)                          \n    #print(ival)\n    return ival\n\ndef word_search(doc_list, keyword):\n    \"\"\"\n    Takes a list of documents (each document is a string) and a keyword. \n    Returns list of the index values into the original list for all documents \n    containing the keyword.\n\n    Example:\n    doc_list = [\"The Learn Python Challenge Casino.\", \"They bought a car\", \"Casinoville\"]\n    >>> word_search(doc_list, 'casino')\n    >>> [0]\n    \"\"\"\n    ival =[]\n    # print(doc_list)\n    for dex,doc in enumerate(doc_list) : #enumerate is very handy\n        doc_words = doc.split()\n        cleansed_doc_words = [doc_word.strip(\",.\").upper() for doc_word in doc_words] # this is cool . return transformed array\n        if keyword.upper() in cleansed_doc_words : # this is super cool. using if stmt to check in a array.\n            ival.append(dex)\n    #print(ival)\n    return ival\n\n\ndoc_list = []\ndoc_list.append(\"The quick brown fox jumped over the lazy dog.\")\ndoc_list.append(\"Every dog has its day\")\ndoc_list.append(\"Its raining cats and dogs.\")\ndoc_list.append(\"Who let the dogs out?\")\ndoc_list.append(\"Its a dog eat dog world\")\ndoc_list.append(\"Nine lives of a cat\")\ndoc_list.append(\"Cat Fight\")\ndoc_list.append(\"Shes a Cat Lady\")\ndoc_list.append(\"Ba Ba Black Sheep\")\ndoc_list.append(\"Lil Bo Beep Lost her sheep.\")\n\nkeywords =[]\nkeywords.append(\"Dog\")\nkeywords.append(\"cat\")\nkeywords.append(\"fox\")\nkeywords.append(\"Sheep\")\nkeywords.append(\"horse\")\n\nfor idx,doc in enumerate(doc_list):\n    print(idx, doc) \n\n#print(keywords)\nprint(multi_word_search(doc_list,keywords))\n\n"
        },
        {
            "cell_type": "markdown",
            "metadata": {},
            "source": "<hr>\nPlanets (Ordered List)\n<ol>\n     <li>Mercury</li>  \n     <li>Venus</li> \n     <li>Earth</li>  \n     <li>Mars</li>  \n</ol> \n<hr>\nTables (2 x 2)\n<table> \n  <tr> \n    <td>1*1</td> \n    <td>1*2</td> \n  </tr> \n  <tr> \n    <td> 2*1</td> \n    <td>2*2</td> \n  </tr> \n</table> \n<hr>\n<a href=\"www.ibm.com\"> IBM </a>\n<hr>\nThe End"
        }
    ],
    "metadata": {
        "kernelspec": {
            "display_name": "Python 3.6",
            "language": "python",
            "name": "python3"
        },
        "language_info": {
            "codemirror_mode": {
                "name": "ipython",
                "version": 3
            },
            "file_extension": ".py",
            "mimetype": "text/x-python",
            "name": "python",
            "nbconvert_exporter": "python",
            "pygments_lexer": "ipython3",
            "version": "3.6.9"
        }
    },
    "nbformat": 4,
    "nbformat_minor": 1
}